{
 "cells": [
  {
   "cell_type": "code",
   "execution_count": null,
   "metadata": {
    "collapsed": true
   },
   "outputs": [],
   "source": [
    "x=int(input(\"Please input an interger:\"))\n",
    "if x < 0:\n",
    "    print(\"Negative\")\n",
    "elif x==0:\n",
    "    print(\"Zero\")\n",
    "else :\n",
    "    print(\"Positive\")\n",
    "\n"
   ]
  },
  {
   "cell_type": "markdown",
   "metadata": {},
   "source": [
    "Next code is **for** statement"
   ]
  },
  {
   "cell_type": "code",
   "execution_count": null,
   "metadata": {
    "collapsed": true
   },
   "outputs": [],
   "source": [
    "test = [1,4,7,9]\n",
    "for x in test :\n",
    "    if (x % 2) == 1:\n",
    "        print (x)\n",
    "    "
   ]
  },
  {
   "cell_type": "markdown",
   "metadata": {},
   "source": [
    "Function **Range()** generates a sequence of numbers\n",
    "\n",
    "**Range(First Num, Last Num(Not Included), Step)**"
   ]
  },
  {
   "cell_type": "code",
   "execution_count": null,
   "metadata": {
    "scrolled": true
   },
   "outputs": [],
   "source": [
    "for x in range(5):\n",
    "    print (x)"
   ]
  },
  {
   "cell_type": "code",
   "execution_count": null,
   "metadata": {},
   "outputs": [],
   "source": [
    "for x in range(10,20,3):\n",
    "    print(x)"
   ]
  },
  {
   "cell_type": "code",
   "execution_count": null,
   "metadata": {
    "scrolled": true
   },
   "outputs": [],
   "source": [
    "Word = ['a','b','c']\n",
    "for x in range(len(Word)):\n",
    "    print (x, Word[x])\n",
    "\n",
    "print(len(Word))"
   ]
  },
  {
   "cell_type": "markdown",
   "metadata": {},
   "source": [
    "\"*else*\" statement is optional in loop, let's have a try"
   ]
  },
  {
   "cell_type": "code",
   "execution_count": null,
   "metadata": {},
   "outputs": [],
   "source": [
    "for x in range(3):\n",
    "    print (x)\n",
    "else :      # it will be executed after the loop terminates\n",
    "    print (x+2)"
   ]
  },
  {
   "cell_type": "markdown",
   "metadata": {},
   "source": [
    "\"*else*\" will be executed after the loop is over , but when the loop is terminated by **break** statement , **else** statement will not be executed."
   ]
  },
  {
   "cell_type": "code",
   "execution_count": null,
   "metadata": {},
   "outputs": [],
   "source": [
    "for x in range(3):\n",
    "    print (x)\n",
    "    break\n",
    "else:\n",
    "    print (x+2)"
   ]
  },
  {
   "cell_type": "markdown",
   "metadata": {},
   "source": [
    "combine **if** statement with the loop"
   ]
  },
  {
   "cell_type": "code",
   "execution_count": null,
   "metadata": {},
   "outputs": [],
   "source": [
    "for x in range(5):\n",
    "    if (x % 2) == 1:\n",
    "        print (x, \"is an Odd Number\")\n",
    "    else :\n",
    "        print (x, \"is an Even Number\")\n",
    "else :\n",
    "    print (\"The loop is over\")\n",
    "    "
   ]
  },
  {
   "cell_type": "markdown",
   "metadata": {},
   "source": [
    "Now let's define a function"
   ]
  },
  {
   "cell_type": "code",
   "execution_count": 2,
   "metadata": {},
   "outputs": [
    {
     "name": "stdout",
     "output_type": "stream",
     "text": [
      "Fox is the number 3\n"
     ]
    }
   ],
   "source": [
    "def WTF(n): # Where's The Fox\n",
    "    for x in range(len(n)):\n",
    "        if n[x] == \"Fox\":\n",
    "            print (\"Fox is the number\", x+1)\n",
    "            break\n",
    "\n",
    "word = [\"Chicken\",\"Wolf\",\"Fox\",\"Toad\"]\n",
    "WTF(word)\n",
    "    "
   ]
  }
 ],
 "metadata": {
  "kernelspec": {
   "display_name": "Python 3",
   "language": "python",
   "name": "python3"
  },
  "language_info": {
   "codemirror_mode": {
    "name": "ipython",
    "version": 3
   },
   "file_extension": ".py",
   "mimetype": "text/x-python",
   "name": "python",
   "nbconvert_exporter": "python",
   "pygments_lexer": "ipython3",
   "version": "3.6.1"
  }
 },
 "nbformat": 4,
 "nbformat_minor": 2
}
