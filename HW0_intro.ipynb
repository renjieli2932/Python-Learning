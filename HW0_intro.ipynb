{
 "cells": [
  {
   "cell_type": "code",
   "execution_count": 1,
   "metadata": {
    "collapsed": true
   },
   "outputs": [],
   "source": [
    "%matplotlib inline\n",
    "%precision 16\n",
    "from __future__ import print_function\n",
    "import numpy\n",
    "import matplotlib.pyplot as plt"
   ]
  },
  {
   "cell_type": "markdown",
   "metadata": {
    "nbgrader": {
     "grade": false,
     "grade_id": "h1",
     "locked": true,
     "solution": false
    }
   },
   "source": [
    "Before you turn this problem in, make sure everything runs as expected. First, restart the kernel (in the menubar, select Kernel $\\rightarrow$ Restart) and then run all cells (in the menubar, select Cell $\\rightarrow$ Run All).\n",
    "\n",
    "Make sure you fill in any place that says YOUR CODE HERE or \"YOUR ANSWER HERE\", as well as your name and collaborators below:"
   ]
  },
  {
   "cell_type": "markdown",
   "metadata": {
    "nbgrader": {
     "grade": false,
     "grade_id": "h2",
     "locked": true,
     "solution": false
    }
   },
   "source": [
    "# Homework 0:  Introduction"
   ]
  },
  {
   "cell_type": "markdown",
   "metadata": {
    "nbgrader": {
     "grade": false,
     "grade_id": "Q1",
     "locked": true,
     "solution": false
    }
   },
   "source": [
    "## Question 1\n",
    "\n",
    "Compute the solution to the following sets of equations.  **FULLY** justify your solution (do not just write the answer).\n",
    "\n",
    "If you want to review some of these concepts check out Strang's [Linear Algebra](https://clio.columbia.edu/catalog/10612929) text or for only the fundamentals check out Strang's [The Fundamental Theorem of Linear Algebra](http://www.jstor.org/stable/2324660?seq=1#page_scan_tab_contents)"
   ]
  },
  {
   "cell_type": "markdown",
   "metadata": {
    "nbgrader": {
     "grade": false,
     "grade_id": "Q1-a",
     "locked": true,
     "solution": false
    }
   },
   "source": [
    "**(a)** (5) Solve $A x = b$ where\n",
    "$$\n",
    "    A = \\begin{bmatrix}\n",
    "        2 & 1 \\\\\n",
    "        1 & 3\n",
    "    \\end{bmatrix} ~~~~ \n",
    "    b = \\begin{bmatrix}\n",
    "        1 \\\\\n",
    "        -2\n",
    "    \\end{bmatrix}\n",
    "$$"
   ]
  },
  {
   "cell_type": "markdown",
   "metadata": {
    "collapsed": true,
    "nbgrader": {
     "grade": true,
     "grade_id": "A1-a",
     "locked": false,
     "points": 5,
     "solution": true
    }
   },
   "source": [
    "#Renjie Li, UNI = RL2932\n",
    "\n",
    "**Solution:**\n",
    "\n",
    "I) With the concept of elimination, the above linear equation can be treated as two equations with two unknowns \n",
    "($x_{1}$and $x_{2}$are two components of vector $\\bf{x}$):\n",
    "  \\begin{align}\n",
    "  2x_{1}+x_{2}&=1  \\\\ \n",
    "  x_{1}+3x_{2}&=-2  \n",
    "  \\end{align}\n",
    "   Substract 1/2 times equation 1 from equation 2:\n",
    "  \\begin{align}\n",
    "  2x_{1}+x_{2}&=1 \\\\\n",
    "  2.5x_{2}&=-2.5\n",
    "  \\end{align}\n",
    "  Solution:\n",
    "  $$\n",
    "  x_{2}=\\frac{-2.5}{2.5} = -1 \\\\\n",
    "  x_{1}=\\frac{1-x_{2}}{2}= 1\n",
    "  $$\n",
    "  Thus:\n",
    "  $$\n",
    "  x = \\begin{bmatrix}\n",
    "  x_{1} \\\\\n",
    "  x_{2}\n",
    "  \\end{bmatrix}\n",
    "  = \\begin{bmatrix}\n",
    "  1 \\\\\n",
    "  -1\n",
    "  \\end{bmatrix}\n",
    "  $$\n",
    "  \n",
    "\n",
    "\n",
    "\n",
    "II) With the concept of inverse matrices, we need to find the inverse matrix of $A$ :\n",
    "  \n",
    "  Since the determinant of $A$ is $ 2\\cdot 3-1\\cdot 1=5$ , $A$ matrix is invertible .\n",
    "  And its inverse matrix is :\n",
    "  $$\n",
    "  A^{-1}=\\begin{bmatrix}\n",
    "  2 & 1\\\\\n",
    "  1 & 3\n",
    "  \\end{bmatrix}^{-1}\n",
    "  = \\frac{1}{5}\\begin{bmatrix}\n",
    "  3 & -1\\\\\n",
    "  -1 & 2\n",
    "  \\end{bmatrix} \n",
    "  = \\begin{bmatrix}\n",
    "  \\frac{3}{5} & -\\frac{1}{5} \\\\\n",
    "  -\\frac{1}{5} & \\frac{2}{5}\n",
    "  \\end{bmatrix}\n",
    "  $$\n",
    "  Thus:\n",
    "  $$\n",
    "  x = A^{-1}Ax = A^{-1}b \\\\\n",
    "  x =\\begin{bmatrix}\n",
    "  \\frac{3}{5} & -\\frac{1}{5} \\\\\n",
    "  -\\frac{1}{5} & \\frac{2}{5}\n",
    "  \\end{bmatrix}\n",
    "  \\begin{bmatrix}\n",
    "  1 \\\\\n",
    "  -2\n",
    "  \\end{bmatrix}\n",
    "  =\\begin{bmatrix}\n",
    "  1 \\\\\n",
    "  -1\n",
    "  \\end{bmatrix}\n",
    "  $$\n",
    "  \n",
    "  \n",
    "  "
   ]
  },
  {
   "cell_type": "markdown",
   "metadata": {
    "nbgrader": {
     "grade": false,
     "grade_id": "Q1-b",
     "locked": true,
     "solution": false
    }
   },
   "source": [
    "**(b)** (5) Solve the system of equations:\n",
    "\\begin{align}\n",
    "    2x + 3y &= 1 \\\\\n",
    "    6x + 9y &= 3\n",
    "\\end{align}"
   ]
  },
  {
   "cell_type": "markdown",
   "metadata": {
    "nbgrader": {
     "grade": true,
     "grade_id": "A1-b",
     "locked": false,
     "points": 5,
     "solution": true
    }
   },
   "source": [
    "**Solution:**\n",
    "\n",
    "With the concept of elimination, substract 3 times equation 1 from equation 2 :\n",
    "$$\n",
    "0y=0\n",
    "$$\n",
    "Every $y$ here satisfies the above equation. \n",
    "In fact there is only one equation, since the two equations in question description represent the same line.\n",
    "We can choose the value of $y$ freely and then determine x by $x = \\frac{1-3y}{2} $"
   ]
  },
  {
   "cell_type": "markdown",
   "metadata": {
    "nbgrader": {
     "grade": false,
     "grade_id": "Q1-c",
     "locked": true,
     "solution": false
    }
   },
   "source": [
    "**(c)** (5) Why will I not be able to solve $Ax=b$ for\n",
    "$$\n",
    "    A = \\begin{bmatrix}\n",
    "        2 & 1 \\\\\n",
    "        1 & 3 \\\\\n",
    "        0 & 4\n",
    "    \\end{bmatrix} ~~~~ \n",
    "    b = \\begin{bmatrix}\n",
    "        2 \\\\\n",
    "        0 \\\\\n",
    "        1\n",
    "    \\end{bmatrix}?\n",
    "$$\n",
    "Describe why this is a problem in terms of the column, row, left-null, and null spaces of $A$ and how that relates to the vector $b$."
   ]
  },
  {
   "cell_type": "markdown",
   "metadata": {
    "nbgrader": {
     "grade": true,
     "grade_id": "A1-c",
     "locked": false,
     "points": 5,
     "solution": true
    }
   },
   "source": [
    "Description:\n",
    "\n",
    "$Ax=b$ is solvable only if $b$ is in the column space of $A$.\n",
    "$A$ is a 3 by 2 matrix, 2 columns cannot fill 3-dimensional vector space , which means some $b$ are not in the column space of $A$.\n",
    "\n",
    "The row echelon form of $A$ is :\n",
    "$ \\begin{bmatrix}\n",
    "2 & 1\\\\\n",
    "0 & 2.5\\\\\n",
    "0 & 0\n",
    "\\end{bmatrix}\n",
    "$\n",
    "\n",
    "It has two pivots, which means bo,th two columns define the column space of $A$.Thus the column space of $A$ is :\n",
    "$\n",
    " x_{1} \\begin{bmatrix}\n",
    " 2 \\\\ 1 \\\\ 0\n",
    " \\end{bmatrix}\n",
    " + x_{2}\\begin{bmatrix}\n",
    " 1 \\\\ 3 \\\\ 4\n",
    " \\end{bmatrix}\n",
    "$\n",
    "\n",
    "The given vector $b$ here is not in the column space of $A$. That is why this equation is not solvable.\n",
    "\n",
    "\n",
    "By the way, we can also use elimination on augmented matrix:\n",
    "$\n",
    "\\begin {bmatrix}\n",
    "2 & 1 & b_{1}\\\\\n",
    "1 & 3 & b_{2}\\\\\n",
    "0 & 4 & b_{3}\n",
    "\\end{bmatrix}\n",
    "\\rightarrow\n",
    "\\begin {bmatrix}\n",
    "2 & 1 & b_{1} \\\\\n",
    "0 & 2.5 & b_{2}-0.5b_{1} \\\\\n",
    "0 & 0 & b_{3}-1.6b_{2}+0.8b_{1} \n",
    "\\end{bmatrix}\n",
    "$\n",
    "\n",
    "$Ax=b$ is solvable when every entry in last row equals zero. In this case, $1-1.6\\cdot 0+0.8\\cdot 2 = 2.6 \\neq 0 $ .\n",
    "We can not solve this equation."
   ]
  },
  {
   "cell_type": "markdown",
   "metadata": {
    "nbgrader": {
     "grade": false,
     "grade_id": "Q2",
     "locked": true,
     "solution": false
    }
   },
   "source": [
    "## Question 2"
   ]
  },
  {
   "cell_type": "markdown",
   "metadata": {
    "nbgrader": {
     "grade": false,
     "grade_id": "Q2-a",
     "locked": true,
     "solution": false
    }
   },
   "source": [
    "**(a)** (10) Write a function that computes\n",
    "$$\n",
    "    \\sum^\\infty_{n=1} \\frac{a^n}{b^{n-1}}\n",
    "$$\n",
    "until the difference between subsequent partial sums is less than the given tolerance $T$.  Return the computed sum.  Make sure to include a way for the function to exit if the partial sums do not satisfy the above criteria (the sum may not be convergent for instance)."
   ]
  },
  {
   "cell_type": "code",
   "execution_count": null,
   "metadata": {
    "collapsed": true,
    "nbgrader": {
     "grade": false,
     "grade_id": "A2",
     "locked": false,
     "solution": true
    }
   },
   "outputs": [],
   "source": [
    "#\n",
    "# YOUR CODE HERE\n",
    "def compute_sum (a,b,T):\n",
    "    sum = 0\n",
    "    n = 1\n",
    "    while ((a ** n) / (b**(n-1)) > T) :\n",
    "        sum += (a ** n) / (b**(n-1))\n",
    "    return sum\n",
    "    \n",
    "print (compute_sum(1.0, 2.0, 1e-16))\n",
    "numpy.testing.assert_allclose(compute_sum(1.0, 2.0, 1e-16), -2.0)\n",
    "try:\n",
    "    compute_sum(1.0, 2.0, 1e-16)\n",
    "except ValueError:\n",
    "    pass\n",
    "else:\n",
    "    assert False\n"
   ]
  },
  {
   "cell_type": "code",
   "execution_count": 2,
   "metadata": {
    "nbgrader": {
     "grade": true,
     "grade_id": "T2-a",
     "locked": true,
     "points": 10,
     "solution": false
    }
   },
   "outputs": [
    {
     "ename": "NameError",
     "evalue": "name 'compute_sum' is not defined",
     "output_type": "error",
     "traceback": [
      "\u001b[0;31m---------------------------------------------------------------------------\u001b[0m",
      "\u001b[0;31mNameError\u001b[0m                                 Traceback (most recent call last)",
      "\u001b[0;32m<ipython-input-2-5813cf8925ad>\u001b[0m in \u001b[0;36m<module>\u001b[0;34m()\u001b[0m\n\u001b[1;32m      1\u001b[0m \u001b[0;32mimport\u001b[0m \u001b[0mnumpy\u001b[0m\u001b[0;34m\u001b[0m\u001b[0m\n\u001b[0;32m----> 2\u001b[0;31m \u001b[0mnumpy\u001b[0m\u001b[0;34m.\u001b[0m\u001b[0mtesting\u001b[0m\u001b[0;34m.\u001b[0m\u001b[0massert_allclose\u001b[0m\u001b[0;34m(\u001b[0m\u001b[0mcompute_sum\u001b[0m\u001b[0;34m(\u001b[0m\u001b[0;34m-\u001b[0m\u001b[0;36m2.0\u001b[0m\u001b[0;34m,\u001b[0m \u001b[0;36m3.0\u001b[0m\u001b[0;34m,\u001b[0m \u001b[0;36m1e-16\u001b[0m\u001b[0;34m)\u001b[0m\u001b[0;34m,\u001b[0m \u001b[0;34m-\u001b[0m\u001b[0;36m1.2\u001b[0m\u001b[0;34m)\u001b[0m\u001b[0;34m\u001b[0m\u001b[0m\n\u001b[0m\u001b[1;32m      3\u001b[0m \u001b[0mnumpy\u001b[0m\u001b[0;34m.\u001b[0m\u001b[0mtesting\u001b[0m\u001b[0;34m.\u001b[0m\u001b[0massert_allclose\u001b[0m\u001b[0;34m(\u001b[0m\u001b[0mcompute_sum\u001b[0m\u001b[0;34m(\u001b[0m\u001b[0;36m1.0\u001b[0m\u001b[0;34m,\u001b[0m \u001b[0;36m2.0\u001b[0m\u001b[0;34m,\u001b[0m \u001b[0;36m1e-16\u001b[0m\u001b[0;34m)\u001b[0m\u001b[0;34m,\u001b[0m \u001b[0;36m2.0\u001b[0m\u001b[0;34m)\u001b[0m\u001b[0;34m\u001b[0m\u001b[0m\n\u001b[1;32m      4\u001b[0m \u001b[0;32mtry\u001b[0m\u001b[0;34m:\u001b[0m\u001b[0;34m\u001b[0m\u001b[0m\n\u001b[1;32m      5\u001b[0m     \u001b[0mcompute_sum\u001b[0m\u001b[0;34m(\u001b[0m\u001b[0;36m2.0\u001b[0m\u001b[0;34m,\u001b[0m \u001b[0;36m1.0\u001b[0m\u001b[0;34m,\u001b[0m \u001b[0;36m1e-16\u001b[0m\u001b[0;34m)\u001b[0m\u001b[0;34m\u001b[0m\u001b[0m\n",
      "\u001b[0;31mNameError\u001b[0m: name 'compute_sum' is not defined"
     ]
    }
   ],
   "source": [
    "import numpy\n",
    "numpy.testing.assert_allclose(compute_sum(-2.0, 3.0, 1e-16), -1.2)\n",
    "numpy.testing.assert_allclose(compute_sum(1.0, 2.0, 1e-16), 2.0)\n",
    "try:\n",
    "    compute_sum(2.0, 1.0, 1e-16)\n",
    "except ValueError:\n",
    "    pass\n",
    "else:\n",
    "    assert False"
   ]
  },
  {
   "cell_type": "markdown",
   "metadata": {
    "nbgrader": {
     "grade": false,
     "grade_id": "Q2-b",
     "locked": true,
     "solution": false
    }
   },
   "source": [
    "**(b)** (5) Explore different tolerances for your function above for $a=-2$ and $b=3$.  Plot the difference\n",
    "$$\n",
    "    \\left| ~ \\sum^\\infty_{n=1} \\frac{a^n}{b^{n-1}} - (-1.2) ~\\right |\n",
    "$$\n",
    "versus the value of the tolerance.  The plotting command `loglog` may be useful to effectively visualize the problem.  What do you observe?\n",
    "\n",
    "Hint:  Try using tolerances in the range $T \\in [10^{-30}, 10^{-2}]$."
   ]
  },
  {
   "cell_type": "code",
   "execution_count": null,
   "metadata": {
    "collapsed": true,
    "nbgrader": {
     "grade": true,
     "grade_id": "A2-b1",
     "locked": false,
     "points": 4,
     "solution": true
    }
   },
   "outputs": [],
   "source": [
    "#\n",
    "# YOUR CODE HERE\n",
    "\n"
   ]
  },
  {
   "cell_type": "markdown",
   "metadata": {
    "nbgrader": {
     "grade": true,
     "grade_id": "A2-b2",
     "locked": false,
     "points": 1,
     "solution": true
    }
   },
   "source": [
    "#\n",
    "# YOUR CODE HERE\n",
    "\n"
   ]
  },
  {
   "cell_type": "markdown",
   "metadata": {
    "nbgrader": {
     "grade": false,
     "grade_id": "Q3",
     "locked": true,
     "solution": false
    }
   },
   "source": [
    "## Question 3"
   ]
  },
  {
   "cell_type": "markdown",
   "metadata": {
    "nbgrader": {
     "grade": false,
     "grade_id": "Q3-a",
     "locked": true,
     "solution": false
    }
   },
   "source": [
    "**(a)** (7) Compute the first 3 terms of the Taylor series of the function\n",
    "$$\n",
    "    f(x) = e^{-x^2} \\sin( x - \\pi)\n",
    "$$\n",
    "centered at $x_0 = \\pi$."
   ]
  },
  {
   "cell_type": "markdown",
   "metadata": {
    "nbgrader": {
     "grade": true,
     "grade_id": "A3-a",
     "locked": false,
     "points": 7,
     "solution": true
    }
   },
   "source": [
    "Derivatives:\n",
    "$$\\begin{aligned}\n",
    "f'(x) &= e^{-x^{2}}(2xsin(x)-cos(x)) \\\\\n",
    "f''(x) &= e^{-x^{2}}[(3-4x^{2})sin(x)+4xcos(x)]\n",
    "\\end{aligned}\n",
    "$$\n",
    "\n",
    "Taylor polynomials:\n",
    "$$T_N(x) = \\sum^N_{n=0} \\frac{f^{(n)}(x_0)\\cdot(x-x_0)^n}{n!} $$\n",
    "For centered at $x_{0}=\\pi $\n",
    "$$T_N(x) = \\sum^N_{n=0} \\frac{f^{(n)}(\\pi)\\cdot(x-\\pi)^n}{n!}\\Rightarrow $$\n",
    "\n",
    "$$\n",
    "\\begin{aligned}\n",
    "T_2(x) & = e^{-\\pi^{2}}sin(\\pi - \\pi)+ e^{-\\pi^{2}}[2\\pi sin(\\pi)-cos(\\pi)](x-\\pi)+\\frac{1}{2}e^{-\\pi^{2}}[(3-4\\pi^{2})sin(\\pi)+4\\pi cos(\\pi)](x-\\pi)^{2}  \\\\\n",
    "& = \\pi e^{-\\pi^{2}}(x-\\pi)-2e^{-\\pi^{2}}(x-\\pi)^{2}\n",
    "\\end{aligned}\n",
    "$$"
   ]
  },
  {
   "cell_type": "markdown",
   "metadata": {
    "nbgrader": {
     "grade": false,
     "grade_id": "Q3-b",
     "locked": true,
     "solution": false
    }
   },
   "source": [
    "**(b)** (8) Solve the ODE\n",
    "$$\n",
    "    u'' + u' + \\frac{5}{4} u = 0\n",
    "$$\n",
    "with initial conditions $u(0) = 3$ and $u'(0) = 1$.  Plot the solution and comment on its behavior as $t \\rightarrow \\infty$."
   ]
  },
  {
   "cell_type": "markdown",
   "metadata": {
    "nbgrader": {
     "grade": true,
     "grade_id": "A3-b1",
     "locked": false,
     "points": 6,
     "solution": true
    }
   },
   "source": [
    "#\n",
    "# YOUR CODE HERE\n",
    "\n"
   ]
  },
  {
   "cell_type": "code",
   "execution_count": null,
   "metadata": {
    "collapsed": true,
    "nbgrader": {
     "grade": true,
     "grade_id": "A3-b2",
     "locked": false,
     "points": 2,
     "solution": true
    }
   },
   "outputs": [],
   "source": [
    "#\n",
    "# YOUR CODE HERE\n",
    "\n"
   ]
  },
  {
   "cell_type": "markdown",
   "metadata": {
    "nbgrader": {
     "grade": false,
     "grade_id": "Q4",
     "locked": true,
     "solution": false
    }
   },
   "source": [
    "## Question 4\n",
    "\n",
    "(5) Plot something fun making sure to label the axes and colorbar if appropriate.  Use the [matplotlib gallery](http://matplotlib.org/gallery.html) for inspiration."
   ]
  },
  {
   "cell_type": "code",
   "execution_count": null,
   "metadata": {
    "collapsed": true,
    "nbgrader": {
     "grade": true,
     "grade_id": "A4",
     "locked": false,
     "points": 5,
     "solution": true
    }
   },
   "outputs": [],
   "source": [
    "#\n",
    "# YOUR CODE HERE\n",
    "\n"
   ]
  }
 ],
 "metadata": {
  "celltoolbar": "Create Assignment",
  "kernelspec": {
   "display_name": "Python 3",
   "language": "python",
   "name": "python3"
  },
  "language_info": {
   "codemirror_mode": {
    "name": "ipython",
    "version": 3
   },
   "file_extension": ".py",
   "mimetype": "text/x-python",
   "name": "python",
   "nbconvert_exporter": "python",
   "pygments_lexer": "ipython3",
   "version": "3.6.1"
  }
 },
 "nbformat": 4,
 "nbformat_minor": 2
}
