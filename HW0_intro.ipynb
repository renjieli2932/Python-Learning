{
 "cells": [
  {
   "cell_type": "code",
   "execution_count": 4,
   "metadata": {
    "collapsed": true
   },
   "outputs": [],
   "source": [
    "%matplotlib inline\n",
    "%precision 16\n",
    "from __future__ import print_function\n",
    "import numpy as np\n",
    "import matplotlib.pyplot as plt"
   ]
  },
  {
   "cell_type": "markdown",
   "metadata": {
    "nbgrader": {
     "grade": false,
     "grade_id": "h1",
     "locked": true,
     "solution": false
    }
   },
   "source": [
    "Before you turn this problem in, make sure everything runs as expected. First, restart the kernel (in the menubar, select Kernel $\\rightarrow$ Restart) and then run all cells (in the menubar, select Cell $\\rightarrow$ Run All).\n",
    "\n",
    "Make sure you fill in any place that says YOUR CODE HERE or \"YOUR ANSWER HERE\", as well as your name and collaborators below:"
   ]
  },
  {
   "cell_type": "markdown",
   "metadata": {
    "nbgrader": {
     "grade": false,
     "grade_id": "h2",
     "locked": true,
     "solution": false
    }
   },
   "source": [
    "# Homework 0:  Introduction"
   ]
  },
  {
   "cell_type": "markdown",
   "metadata": {
    "nbgrader": {
     "grade": false,
     "grade_id": "Q1",
     "locked": true,
     "solution": false
    }
   },
   "source": [
    "## Question 1\n",
    "\n",
    "Compute the solution to the following sets of equations.  **FULLY** justify your solution (do not just write the answer).\n",
    "\n",
    "If you want to review some of these concepts check out Strang's [Linear Algebra](https://clio.columbia.edu/catalog/10612929) text or for only the fundamentals check out Strang's [The Fundamental Theorem of Linear Algebra](http://www.jstor.org/stable/2324660?seq=1#page_scan_tab_contents)"
   ]
  },
  {
   "cell_type": "markdown",
   "metadata": {
    "nbgrader": {
     "grade": false,
     "grade_id": "Q1-a",
     "locked": true,
     "solution": false
    }
   },
   "source": [
    "**(a)** (5) Solve $A x = b$ where\n",
    "$$\n",
    "    A = \\begin{bmatrix}\n",
    "        2 & 1 \\\\\n",
    "        1 & 3\n",
    "    \\end{bmatrix} ~~~~ \n",
    "    b = \\begin{bmatrix}\n",
    "        1 \\\\\n",
    "        -2\n",
    "    \\end{bmatrix}\n",
    "$$"
   ]
  },
  {
   "cell_type": "markdown",
   "metadata": {
    "collapsed": true,
    "nbgrader": {
     "grade": true,
     "grade_id": "A1-a",
     "locked": false,
     "points": 5,
     "solution": true
    }
   },
   "source": [
    "----\n",
    "#Renjie Li, UNI = RL2932\n",
    "\n",
    "<h1>Solution 1(a):</h1>\n",
    "\n",
    "<h3>Method I :</h3>\n",
    "With the concept of elimination, the above linear equation can be treated as two equations with two unknowns \n",
    "($x_{1}$and $x_{2}$are two components of vector $\\bf{x}$):\n",
    "  \\begin{align}\n",
    "  2x_{1}+x_{2}&=1  \\\\ \n",
    "  x_{1}+3x_{2}&=-2  \n",
    "  \\end{align}\n",
    "   Substract 1/2 times equation 1 from equation 2:\n",
    "  \\begin{align}\n",
    "  2x_{1}+x_{2}&=1 \\\\\n",
    "  2.5x_{2}&=-2.5\n",
    "  \\end{align}\n",
    "  Solution:\n",
    "  $$\n",
    "  x_{2}=\\frac{-2.5}{2.5} = -1 \\\\\n",
    "  x_{1}=\\frac{1-x_{2}}{2}= 1\n",
    "  $$\n",
    "  Thus:\n",
    "  $$\n",
    "  x = \\begin{bmatrix}\n",
    "  x_{1} \\\\\n",
    "  x_{2}\n",
    "  \\end{bmatrix}\n",
    "  = \\begin{bmatrix}\n",
    "  1 \\\\\n",
    "  -1\n",
    "  \\end{bmatrix}\n",
    "  $$\n",
    "  \n",
    "\n",
    "\n",
    "\n",
    "<h3>Method II :</h3>\n",
    "With the concept of inverse matrices, we need to find the inverse matrix of $A$ :\n",
    "  \n",
    "  Since the determinant of $A$ is $ 2\\cdot 3-1\\cdot 1=5$ , $A$ matrix is invertible .\n",
    "  And its inverse matrix is :\n",
    "  $$\n",
    "  A^{-1}=\\begin{bmatrix}\n",
    "  2 & 1\\\\\n",
    "  1 & 3\n",
    "  \\end{bmatrix}^{-1}\n",
    "  = \\frac{1}{5}\\begin{bmatrix}\n",
    "  3 & -1\\\\\n",
    "  -1 & 2\n",
    "  \\end{bmatrix} \n",
    "  = \\begin{bmatrix}\n",
    "  \\frac{3}{5} & -\\frac{1}{5} \\\\\n",
    "  -\\frac{1}{5} & \\frac{2}{5}\n",
    "  \\end{bmatrix}\n",
    "  $$\n",
    "  Thus:\n",
    "  $$\n",
    "  x = A^{-1}Ax = A^{-1}b \\\\\n",
    "  x =\\begin{bmatrix}\n",
    "  \\frac{3}{5} & -\\frac{1}{5} \\\\\n",
    "  -\\frac{1}{5} & \\frac{2}{5}\n",
    "  \\end{bmatrix}\n",
    "  \\begin{bmatrix}\n",
    "  1 \\\\\n",
    "  -2\n",
    "  \\end{bmatrix}\n",
    "  =\\begin{bmatrix}\n",
    "  1 \\\\\n",
    "  -1\n",
    "  \\end{bmatrix}\n",
    "  $$\n",
    "  \n",
    "  \n",
    "----  "
   ]
  },
  {
   "cell_type": "markdown",
   "metadata": {
    "nbgrader": {
     "grade": false,
     "grade_id": "Q1-b",
     "locked": true,
     "solution": false
    }
   },
   "source": [
    "**(b)** (5) Solve the system of equations:\n",
    "\\begin{align}\n",
    "    2x + 3y &= 1 \\\\\n",
    "    6x + 9y &= 3\n",
    "\\end{align}"
   ]
  },
  {
   "cell_type": "markdown",
   "metadata": {
    "nbgrader": {
     "grade": true,
     "grade_id": "A1-b",
     "locked": false,
     "points": 5,
     "solution": true
    }
   },
   "source": [
    "----\n",
    "<h1>Solution 1(b):</h1>\n",
    "\n",
    "With the concept of elimination, substract 3 times equation 1 from equation 2 :\n",
    "$$\n",
    "0y=0\n",
    "$$\n",
    "Every $y$ here satisfies the above equation. \n",
    "In fact there is only one equation, since the two equations in question description represent the same line.\n",
    "We can choose the value of $y$ freely and then determine x by $x = \\frac{1-3y}{2} $\n",
    "\n",
    "----"
   ]
  },
  {
   "cell_type": "markdown",
   "metadata": {
    "nbgrader": {
     "grade": false,
     "grade_id": "Q1-c",
     "locked": true,
     "solution": false
    }
   },
   "source": [
    "**(c)** (5) Why will I not be able to solve $Ax=b$ for\n",
    "$$\n",
    "    A = \\begin{bmatrix}\n",
    "        2 & 1 \\\\\n",
    "        1 & 3 \\\\\n",
    "        0 & 4\n",
    "    \\end{bmatrix} ~~~~ \n",
    "    b = \\begin{bmatrix}\n",
    "        2 \\\\\n",
    "        0 \\\\\n",
    "        1\n",
    "    \\end{bmatrix}?\n",
    "$$\n",
    "Describe why this is a problem in terms of the column, row, left-null, and null spaces of $A$ and how that relates to the vector $b$."
   ]
  },
  {
   "cell_type": "markdown",
   "metadata": {
    "nbgrader": {
     "grade": true,
     "grade_id": "A1-c",
     "locked": false,
     "points": 5,
     "solution": true
    }
   },
   "source": [
    "----\n",
    "<h1>Description 1(c):</h1>\n",
    "\n",
    "$Ax=b$ is solvable only if $b$ is in the column space of $A$.\n",
    "$A$ is a 3 by 2 matrix, 2 columns cannot fill 3-dimensional vector space , which means some $b$ are not in the column space of $A$.\n",
    "\n",
    "The row echelon form of $A$ is :\n",
    "$ \\begin{bmatrix}\n",
    "2 & 1\\\\\n",
    "0 & 2.5\\\\\n",
    "0 & 0\n",
    "\\end{bmatrix}\n",
    "$\n",
    "\n",
    "It has two pivots, which means both two columns will define the column space of $A$.Thus the column space of $A$ is :\n",
    "$\n",
    " x_{1} \\begin{bmatrix}\n",
    " 2 \\\\ 1 \\\\ 0\n",
    " \\end{bmatrix}\n",
    " + x_{2}\\begin{bmatrix}\n",
    " 1 \\\\ 3 \\\\ 4\n",
    " \\end{bmatrix}\n",
    "$\n",
    "\n",
    "The given vector $b$ here is not in the column space of $A$. That is why this equation is not solvable.\n",
    "\n",
    "\n",
    "By the way, we can also use elimination on augmented matrix:\n",
    "$\n",
    "\\begin {bmatrix}\n",
    "2 & 1 & b_{1}\\\\\n",
    "1 & 3 & b_{2}\\\\\n",
    "0 & 4 & b_{3}\n",
    "\\end{bmatrix}\n",
    "\\rightarrow\n",
    "\\begin {bmatrix}\n",
    "2 & 1 & b_{1} \\\\\n",
    "0 & 2.5 & b_{2}-0.5b_{1} \\\\\n",
    "0 & 0 & b_{3}-1.6b_{2}+0.8b_{1} \n",
    "\\end{bmatrix}\n",
    "$\n",
    "\n",
    "$Ax=b$ is solvable when every entry in last row equals zero. In this case, $1-1.6\\cdot 0+0.8\\cdot 2 = 2.6 \\neq 0 $ .\n",
    "We can not solve this equation.\n",
    "\n",
    "----"
   ]
  },
  {
   "cell_type": "markdown",
   "metadata": {
    "nbgrader": {
     "grade": false,
     "grade_id": "Q2",
     "locked": true,
     "solution": false
    }
   },
   "source": [
    "## Question 2"
   ]
  },
  {
   "cell_type": "markdown",
   "metadata": {
    "nbgrader": {
     "grade": false,
     "grade_id": "Q2-a",
     "locked": true,
     "solution": false
    }
   },
   "source": [
    "**(a)** (10) Write a function that computes\n",
    "$$\n",
    "    \\sum^\\infty_{n=1} \\frac{a^n}{b^{n-1}}\n",
    "$$\n",
    "until the difference between subsequent partial sums is less than the given tolerance $T$.  Return the computed sum.  Make sure to include a way for the function to exit if the partial sums do not satisfy the above criteria (the sum may not be convergent for instance)."
   ]
  },
  {
   "cell_type": "code",
   "execution_count": 25,
   "metadata": {
    "nbgrader": {
     "grade": false,
     "grade_id": "A2",
     "locked": false,
     "solution": true
    }
   },
   "outputs": [
    {
     "data": {
      "text/plain": [
       "-1.1999999999999997"
      ]
     },
     "execution_count": 25,
     "metadata": {},
     "output_type": "execute_result"
    }
   ],
   "source": [
    "def compute_sum (a,b,Tol):\n",
    "    if b == 0 :  # zero is not allowed to be denominator\n",
    "        raise ValueError\n",
    "    sum = 0\n",
    "    n = 1\n",
    "    partial_sum = (a ** n) / (b**(n-1))\n",
    "    if abs(a/b) > 1:  # the sum may not be convergent if a/b >1 (difference between subsequent partial sums > Tol)\n",
    "        raise ValueError\n",
    "    bool = True\n",
    "    while bool :\n",
    "        if (abs(partial_sum)) > Tol :\n",
    "            sum += partial_sum\n",
    "            n += 1\n",
    "            partial_sum = (a ** n) / (b**(n-1))\n",
    "        else:\n",
    "            bool = False\n",
    "    return sum\n",
    "    \n",
    "compute_sum(-2.0,3.0,1e-16)"
   ]
  },
  {
   "cell_type": "code",
   "execution_count": 27,
   "metadata": {
    "nbgrader": {
     "grade": true,
     "grade_id": "T2-a",
     "locked": true,
     "points": 10,
     "solution": false
    }
   },
   "outputs": [],
   "source": [
    "import numpy\n",
    "numpy.testing.assert_allclose(compute_sum(-2.0, 3.0, 1e-16), -1.2)\n",
    "numpy.testing.assert_allclose(compute_sum(1.0, 2.0, 1e-16), 2.0)\n",
    "try:\n",
    "    compute_sum(-2.0, 1.0, 1e-16)\n",
    "except ValueError:\n",
    "    pass\n",
    "else:\n",
    "    assert False\n"
   ]
  },
  {
   "cell_type": "code",
   "execution_count": 26,
   "metadata": {},
   "outputs": [
    {
     "ename": "AssertionError",
     "evalue": "",
     "output_type": "error",
     "traceback": [
      "\u001b[0;31m---------------------------------------------------------------------------\u001b[0m",
      "\u001b[0;31mAssertionError\u001b[0m                            Traceback (most recent call last)",
      "\u001b[0;32m<ipython-input-26-fb61ffa9d662>\u001b[0m in \u001b[0;36m<module>\u001b[0;34m()\u001b[0m\n\u001b[1;32m      7\u001b[0m     \u001b[0;32mpass\u001b[0m\u001b[0;34m\u001b[0m\u001b[0m\n\u001b[1;32m      8\u001b[0m \u001b[0;32melse\u001b[0m\u001b[0;34m:\u001b[0m\u001b[0;34m\u001b[0m\u001b[0m\n\u001b[0;32m----> 9\u001b[0;31m     \u001b[0;32massert\u001b[0m \u001b[0;32mFalse\u001b[0m\u001b[0;34m\u001b[0m\u001b[0m\n\u001b[0m",
      "\u001b[0;31mAssertionError\u001b[0m: "
     ]
    }
   ],
   "source": [
    "import numpy\n",
    "numpy.testing.assert_allclose(compute_sum(-2.0, 3.0, 1e-16), -1.2)\n",
    "numpy.testing.assert_allclose(compute_sum(1.0, 2.0, 1e-16), 2.0)\n",
    "try:\n",
    "    compute_sum(-2.0, 3.0, 1e-16)\n",
    "except ValueError:\n",
    "    pass\n",
    "else:\n",
    "    assert False"
   ]
  },
  {
   "cell_type": "markdown",
   "metadata": {
    "nbgrader": {
     "grade": false,
     "grade_id": "Q2-b",
     "locked": true,
     "solution": false
    }
   },
   "source": [
    "**(b)** (5) Explore different tolerances for your function above for $a=-2$ and $b=3$.  Plot the difference\n",
    "$$\n",
    "    \\left| ~ \\sum^\\infty_{n=1} \\frac{a^n}{b^{n-1}} - (-1.2) ~\\right |\n",
    "$$\n",
    "versus the value of the tolerance.  The plotting command `loglog` may be useful to effectively visualize the problem.  What do you observe?\n",
    "\n",
    "Hint:  Try using tolerances in the range $T \\in [10^{-30}, 10^{-2}]$."
   ]
  },
  {
   "cell_type": "code",
   "execution_count": null,
   "metadata": {
    "collapsed": true,
    "nbgrader": {
     "grade": true,
     "grade_id": "A2-b1",
     "locked": false,
     "points": 4,
     "solution": true
    }
   },
   "outputs": [],
   "source": [
    "T=np.logspace(-30,-2,num=200,base=10)\n",
    "Diff=[]\n",
    "Tolerance=[]\n",
    "for i in T:\n",
    "    dif = abs(compute_sum(-2,3,i)+1.2)\n",
    "    Tolerance.append(i)\n",
    "    Diff.append(dif)\n",
    "    \n",
    "plt.loglog(Tolerance,Diff,'g',basex=10,basey=10)\n",
    "# As the value of tolerance raises, the value of difference also becomes bigger\n"
   ]
  },
  {
   "cell_type": "markdown",
   "metadata": {
    "nbgrader": {
     "grade": false,
     "grade_id": "Q3",
     "locked": true,
     "solution": false
    }
   },
   "source": [
    "## Question 3"
   ]
  },
  {
   "cell_type": "markdown",
   "metadata": {
    "nbgrader": {
     "grade": false,
     "grade_id": "Q3-a",
     "locked": true,
     "solution": false
    }
   },
   "source": [
    "**(a)** (7) Compute the first 3 terms of the Taylor series of the function\n",
    "$$\n",
    "    f(x) = e^{-x^2} \\sin( x - \\pi)\n",
    "$$\n",
    "centered at $x_0 = \\pi$."
   ]
  },
  {
   "cell_type": "markdown",
   "metadata": {
    "nbgrader": {
     "grade": true,
     "grade_id": "A3-a",
     "locked": false,
     "points": 7,
     "solution": true
    }
   },
   "source": [
    "----\n",
    "<h1>Solution 3(a):</h1>\n",
    "\n",
    "\n",
    "Derivatives:\n",
    "$$\\begin{aligned}\n",
    "f'(x) &= e^{-x^{2}}(2xsin(x)-cos(x)) \\\\\n",
    "f''(x) &= e^{-x^{2}}[(3-4x^{2})sin(x)+4xcos(x)]\n",
    "\\end{aligned}\n",
    "$$\n",
    "\n",
    "Taylor polynomials:\n",
    "$$T_N(x) = \\sum^N_{n=0} \\frac{f^{(n)}(x_0)\\cdot(x-x_0)^n}{n!} $$\n",
    "For centered at $x_{0}=\\pi $\n",
    "$$T_N(x) = \\sum^N_{n=0} \\frac{f^{(n)}(\\pi)\\cdot(x-\\pi)^n}{n!}\\Rightarrow $$\n",
    "\n",
    "$$\n",
    "\\begin{aligned}\n",
    "T_2(x) & = e^{-\\pi^{2}}sin(\\pi - \\pi)+ e^{-\\pi^{2}}[2\\pi sin(\\pi)-cos(\\pi)](x-\\pi)+\\frac{1}{2}e^{-\\pi^{2}}[(3-4\\pi^{2})sin(\\pi)+4\\pi cos(\\pi)](x-\\pi)^{2}  \\\\\n",
    "& = \\pi e^{-\\pi^{2}}(x-\\pi)-2e^{-\\pi^{2}}(x-\\pi)^{2}\n",
    "\\end{aligned}\n",
    "$$\n",
    "\n",
    "----"
   ]
  },
  {
   "cell_type": "markdown",
   "metadata": {
    "nbgrader": {
     "grade": false,
     "grade_id": "Q3-b",
     "locked": true,
     "solution": false
    }
   },
   "source": [
    "**(b)** (8) Solve the ODE\n",
    "$$\n",
    "    u'' + u' + \\frac{5}{4} u = 0\n",
    "$$\n",
    "with initial conditions $u(0) = 3$ and $u'(0) = 1$.  Plot the solution and comment on its behavior as $t \\rightarrow \\infty$."
   ]
  },
  {
   "cell_type": "markdown",
   "metadata": {
    "nbgrader": {
     "grade": true,
     "grade_id": "A3-b1",
     "locked": false,
     "points": 6,
     "solution": true
    }
   },
   "source": [
    "----\n",
    "<h1>Solution 3(b): </h1>\n",
    "\n",
    "<h3>Method I :</h3>\n",
    "\n",
    "The characteristic equation of the above ODE is :\n",
    "$$\n",
    "r^{2}+r+\\frac{5}{4}=0\n",
    "$$\n",
    "whose roots are $r_{1,2}=-\\frac{1}{2}\\pm 1i $.\n",
    "The general solution shoule be:\n",
    "$$\n",
    "\\begin{aligned}\n",
    "u(t) &= C_{1}e^{- \\frac{1}{2}t}cos(t)+C_{2}e^{- \\frac{1}{2}t}sin(t) \\\\\n",
    "u'(t) &= -\\frac{C_{1}}{2}e^{- \\frac{1}{2}t}cos(t) - C_{1}e^{- \\frac{1}{2}t}sin(t) - \\frac{C_{2}}{2}e^{- \\frac{1}{2}t}sin(t)+C_{2}e^{- \\frac{1}{2}t}cos(t)\n",
    "\\end{aligned}\n",
    "$$\n",
    "Apply $u(0)=3$ and $u'(0)=1$ into the above two equations, we can get the values of $C_{1}$ and $C_{2}$ :\n",
    "$$\n",
    "C_{1}=3 \\\\\n",
    "C_{2}=\\frac{5}{2} \n",
    "$$\n",
    "Then:\n",
    "$$\n",
    "u(t)=3e^{- \\frac{1}{2}t}cos(t)+\\frac{5}{2}e^{- \\frac{1}{2}t}sin(t)\n",
    "$$\n",
    "\n",
    "\n",
    "\n",
    "<h3>Method II: </h3>\n",
    "\n",
    "We can solve it with Laplace Transform:\n",
    "$$\n",
    "\\mathcal{L}{(u''(t))}+\\mathcal{L}{(u'(t))}+\\frac{5}{4}\\mathcal{L}{(u(t))}=0 \\Rightarrow \\\\\n",
    "s^{2}U(s)-su(0)-u'(0)+sU(s)-f(0)+\\frac{5}{4}U(s)=0\n",
    "$$\n",
    "Apply $u(0)=3$ and $u'(0)=1$ into the above equations:\n",
    "$$\n",
    "s^{2}U(s)-3s-1+sU(s)-3+\\frac{5}{4}U(s)=0 \\Rightarrow \\\\\n",
    "U(s) = \\frac{3s+4}{s^{2}+s+\\frac{5}{4}}\n",
    "= 3\\frac{(s+\\frac{1}{2})}{(s+\\frac{1}{2})^{2}+1^{2}}+\\frac{5}{2} \\frac{1}{(s+\\frac{1}{2})^{2}+1^{2}}\n",
    "$$\n",
    "Then take the inverse transform we can get:\n",
    "$$\n",
    "u(t)=3e^{- \\frac{1}{2}t}cos(t)+\\frac{5}{2}e^{- \\frac{1}{2}t}sin(t)\n",
    "$$\n",
    "\n",
    "----"
   ]
  },
  {
   "cell_type": "code",
   "execution_count": null,
   "metadata": {
    "collapsed": true,
    "nbgrader": {
     "grade": true,
     "grade_id": "A3-b2",
     "locked": false,
     "points": 2,
     "solution": true
    }
   },
   "outputs": [],
   "source": [
    "import numpy as np\n",
    "t = numpy.linspace(0, 50, 100)\n",
    "u = 3*np.exp(-0.5*t)*np.cos(t)+2.5*np.exp(-0.5*t)*np.sin(t)\n",
    "plt.plot(t, u,'r')\n",
    "plt.xlabel(\"t\")\n",
    "plt.ylabel(\"u(t)\")\n",
    "plt.title(\"Question 3(b)\")\n",
    "#plt.ylim([-0.01,0.01]) //Uncomment these two lines will figure out \n",
    "#plt.xlim([20,50])      //the value of u(t) is almost zero when t -> infinity"
   ]
  },
  {
   "cell_type": "markdown",
   "metadata": {},
   "source": [
    "----\n",
    "As $t \\rightarrow \\infty$, $e^{- \\frac{1}{2}t} \\rightarrow 0$. \n",
    "\n",
    "Thus $u(t)=3e^{- \\frac{1}{2}t}cos(t)+\\frac{5}{2}e^{- \\frac{1}{2}t}sin(t) \\rightarrow 0$\n",
    "\n",
    "----"
   ]
  },
  {
   "cell_type": "markdown",
   "metadata": {
    "nbgrader": {
     "grade": false,
     "grade_id": "Q4",
     "locked": true,
     "solution": false
    }
   },
   "source": [
    "## Question 4\n",
    "\n",
    "(5) Plot something fun making sure to label the axes and colorbar if appropriate.  Use the [matplotlib gallery](http://matplotlib.org/gallery.html) for inspiration."
   ]
  },
  {
   "cell_type": "code",
   "execution_count": null,
   "metadata": {
    "collapsed": true,
    "nbgrader": {
     "grade": true,
     "grade_id": "A4",
     "locked": false,
     "points": 5,
     "solution": true
    },
    "scrolled": true
   },
   "outputs": [],
   "source": [
    "\n",
    "import numpy\n",
    "import matplotlib\n",
    "y=numpy.linspace(0,15,100)\n",
    "x=0.2*numpy.sin(y)\n",
    "x2=0.2*numpy.cos(y)\n",
    "x3=0.1+0.2*numpy.sin(0.8*y)\n",
    "plt.plot(x,y,'r')\n",
    "plt.plot(x2,y-1.5,'r')\n",
    "xline = [-0.18, 0.18,-0.18 ,0.18, -0.18, 0.18,-0.1,0.1,-0.1,0.1,-0.1,0.1,-0.1,0.1,-0.1,0.1,-0.1,0.1]\n",
    "yline = [1.8, 1.8, 4.8, 4.8, 7.8, 7.8,1,1,4,4,7,7,2.5,2.5,5.5,5.5,8.5,8.5]\n",
    "pair_x_array = np.reshape(xline, (-1, 2))\n",
    "pair_y_array = np.reshape(yline, (-1, 2))\n",
    "for i, pair_x in enumerate(pair_x_array):\n",
    "    pair_y = pair_y_array[i]\n",
    "    plt.plot(pair_x, pair_y, 'g', linewidth=2)\n",
    "plt.xlim([-1,1])\n",
    "plt.ylim([0.5,9])\n",
    "plt.title(\"DNA Strand in 2D\")"
   ]
  },
  {
   "cell_type": "code",
   "execution_count": null,
   "metadata": {
    "collapsed": true
   },
   "outputs": [],
   "source": []
  }
 ],
 "metadata": {
  "celltoolbar": "Create Assignment",
  "kernelspec": {
   "display_name": "Python 3",
   "language": "python",
   "name": "python3"
  },
  "language_info": {
   "codemirror_mode": {
    "name": "ipython",
    "version": 3
   },
   "file_extension": ".py",
   "mimetype": "text/x-python",
   "name": "python",
   "nbconvert_exporter": "python",
   "pygments_lexer": "ipython3",
   "version": "3.6.1"
  }
 },
 "nbformat": 4,
 "nbformat_minor": 2
}
